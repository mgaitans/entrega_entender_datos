{
 "cells": [
  {
   "cell_type": "markdown",
   "metadata": {},
   "source": [
    "# Tutorial: Entendimiendo de los datos"
   ]
  },
  {
   "cell_type": "markdown",
   "metadata": {},
   "source": [
    "Continuando con el proyecto de consultoria de Wide World Importers, el primer paso para iniciar la comprensión de los datos es explorar y entender las fuentes de datos disponibles. Note que esto también nos ayuda a comprender mejor la organización."
   ]
  },
  {
   "cell_type": "markdown",
   "metadata": {},
   "source": [
    "## Configuración e importe de paquetes\n",
    "Se utilizará el paquete de pandas profiling para apoyar el análisis estadístico, y se importan los paquetes de python\n",
    "necesarios"
   ]
  },
  {
   "cell_type": "code",
   "execution_count": 1,
   "metadata": {},
   "outputs": [
    {
     "name": "stderr",
     "output_type": "stream",
     "text": [
      "C:\\Users\\estudiante\\anaconda3\\envs\\Tutoriales\\lib\\site-packages\\tqdm\\auto.py:22: TqdmWarning: IProgress not found. Please update jupyter and ipywidgets. See https://ipywidgets.readthedocs.io/en/stable/user_install.html\n",
      "  from .autonotebook import tqdm as notebook_tqdm\n"
     ]
    }
   ],
   "source": [
    "import pyspark\n",
    "from pyspark.sql import SparkSession \n",
    "from pyspark.sql import functions\n",
    "from pyspark.sql.types import StructType\n",
    "from pyspark import SparkContext, SparkConf, SQLContext\n",
    "from pyspark.sql.types import FloatType, StringType, IntegerType, DateType\n",
    "from pyspark.sql.functions import udf, col, length, isnan, when, count\n",
    "import pyspark.sql.functions as f\n",
    "import os \n",
    "from datetime import datetime\n",
    "from pyspark.sql import types as t\n",
    "from pandas_profiling import ProfileReport\n",
    "#import matplotlib.pyplot as plt\n",
    "import numpy as np"
   ]
  },
  {
   "cell_type": "markdown",
   "metadata": {},
   "source": [
    "Configuración del controlador e inicio de sesion Spark"
   ]
  },
  {
   "cell_type": "code",
   "execution_count": 2,
   "metadata": {},
   "outputs": [],
   "source": [
    "path_jar_driver = 'C:\\Program Files (x86)\\MySQL\\Connector J 8.0\\mysql-connector-java-8.0.28.jar'"
   ]
  },
  {
   "cell_type": "code",
   "execution_count": 3,
   "metadata": {},
   "outputs": [
    {
     "name": "stderr",
     "output_type": "stream",
     "text": [
      "C:\\Users\\estudiante\\anaconda3\\envs\\Tutoriales\\lib\\site-packages\\pyspark\\sql\\context.py:79: FutureWarning: Deprecated in 3.0.0. Use SparkSession.builder.getOrCreate() instead.\n",
      "  FutureWarning\n"
     ]
    }
   ],
   "source": [
    "#Configuración de la sesión\n",
    "conf=SparkConf() \\\n",
    "    .set('spark.driver.extraClassPath', path_jar_driver)\n",
    "\n",
    "spark_context = SparkContext(conf=conf)\n",
    "sql_context = SQLContext(spark_context)\n",
    "spark = sql_context.sparkSession"
   ]
  },
  {
   "cell_type": "code",
   "execution_count": 4,
   "metadata": {},
   "outputs": [],
   "source": [
    "# Si quiere practicar la conexion con el servidor de base de datos:\n",
    "db_connection_string = 'jdbc:mysql://157.253.236.116:8080/WWImportersTransactional'\n",
    "# El usuario es su estudiante _i asignado y su contraseña la encontrará en el archivo excel de Coursera \n",
    "db_user = 'Estudiante_22'\n",
    "db_psswd = 'PTJIBT5R5E'\n",
    "\n",
    "PATH='./'"
   ]
  },
  {
   "cell_type": "markdown",
   "metadata": {},
   "source": [
    "### Información dada por la organización relacionada con los datos\n",
    "\n",
    "En esta actividad le recomendamos revisar el diccionario de datos suministrado y en particular la información relacionada con esta tabla. Si tienen alguna duda relacionada a esta tabla deben incluirla en las preguntas o aclaraciones que le entreguen al negocio. En relación a los datos Wide World Importers menciona:\n",
    "\n",
    "- La cantidad máxima de productos movidos es 50 millones por viaje\n",
    "- Existen 236.668 movimientos de producto realizados desde 2013\n",
    "- Los movimientos están relacionados con 228.265 clientes\n",
    "- El formato de fechas manejado es YYYY-MM-DD HH:MM:SS\n",
    "- Actualmente tenemos 13 proveedores\n",
    "\n",
    "Idealmente debe terminar con una lista de preguntas o aclaraciones para la organización, conclusiones de los datos/problemas de calidad y alternativas para la limpieza."
   ]
  },
  {
   "cell_type": "markdown",
   "metadata": {},
   "source": [
    "### Conexión a fuente de datos y acceso a los datos"
   ]
  },
  {
   "cell_type": "markdown",
   "metadata": {},
   "source": [
    "#### Conexión a fuente de datos\n",
    "A continuación encuentra las funciones para conectarse a la fuente de datos (archivo csv o base de datos) y retornar un dataframe que es el que se utilizará posteriormente para manipular los datos."
   ]
  },
  {
   "cell_type": "code",
   "execution_count": 5,
   "metadata": {},
   "outputs": [],
   "source": [
    "def obtener_dataframe_de_bd(db_connection_string, sql, db_user, db_psswd):\n",
    "    df_bd = spark.read.format('jdbc')\\\n",
    "        .option('url', db_connection_string) \\\n",
    "        .option('dbtable', sql) \\\n",
    "        .option('user', db_user) \\\n",
    "        .option('password', db_psswd) \\\n",
    "        .option('driver', 'com.mysql.cj.jdbc.Driver') \\\n",
    "        .load()\n",
    "    return df_bd"
   ]
  },
  {
   "cell_type": "markdown",
   "metadata": {},
   "source": [
    "#### Cargue de datos\n",
    "Los criterios generales para la evaluación de la actividad son:\n",
    "1. Completitud del perfilamiento de datos (40 puntos)\n",
    "- Cantidad de registros y cantidad de columnas por tipo de dato \n",
    "- Significado de una fila \n",
    "- Estadísticas descriptivas por columna (numérica, categórica, fechas) \n"
   ]
  },
  {
   "cell_type": "code",
   "execution_count": 6,
   "metadata": {},
   "outputs": [],
   "source": [
    "sql_movimientoscopia = '''(SELECT mc.TransaccionProductoID,\n",
    "mc.ProductoID, NombreProducto,\n",
    "tt.TipoTransaccionID, tt.TipoTransaccionNombre, \n",
    "mc.ClienteID,\n",
    "mc.InvoiceID,\n",
    "mc.ProveedorID, pc.NombreProveedor,\n",
    "mc.OrdenDeCompraID,\n",
    "mc.FechaTransaccion,\n",
    "mc.Cantidad \n",
    "FROM movimientosCopia mc\n",
    "INNER JOIN TiposTransaccion tt ON tt.TipoTransaccionID=mc.TipoTransaccionID\n",
    "INNER JOIN Producto pr ON pr.ID_Producto=mc.ProductoID \n",
    "INNER JOIN provedoresCopia pc ON pc.ProveedorID=mc.ProveedorID\n",
    "order by Cantidad desc) AS Compatible'''"
   ]
  },
  {
   "cell_type": "code",
   "execution_count": 65,
   "metadata": {},
   "outputs": [],
   "source": [
    "sql_producto = '''(SELECT ID_Producto, NombreProducto, Marca, ID_Color, Necesita_refrigeracion, Dias_tiempo_entrega, Impuesto, PrecioUnitario, PrecioRecomendado \n",
    "FROM Producto) AS Productos'''"
   ]
  },
  {
   "cell_type": "code",
   "execution_count": 98,
   "metadata": {},
   "outputs": [],
   "source": [
    "sql_proveedor = '''(SELECT \n",
    "ProveedorID, \n",
    "NombreProveedor, \n",
    "CategoriaProveedorID, \n",
    "PersonaContactoPrincipalID, \n",
    "PersonaContactoAlternoID, \n",
    "MetodoEntregaID, \n",
    "CiudadEntregaID,\n",
    "CiudadID,\n",
    "ReferenciaProveedor,\n",
    "NombreCuentaBanco,\n",
    "MarcaCuentaBanco,\n",
    "CodigoCuentaBanco,\n",
    "NumeroCuentaBaco,\n",
    "CodigoInternacionalBanco,\n",
    "DiasPago,\n",
    "ComentariosInternos,\n",
    "NumeroTelefono,\n",
    "NumeroFax,\n",
    "URL,\n",
    "Direccion1,\n",
    "Direccion2,\n",
    "CodigoPostal,\n",
    "UbicacionEntrega,\n",
    "DireccionPostal1,\n",
    "DireccionPostal2,\n",
    "CodigoPostal2,\n",
    "UltimaEdicionPor\n",
    "FROM provedoresCopia order by ProveedorID asc) AS Proveedor'''"
   ]
  },
  {
   "cell_type": "markdown",
   "metadata": {},
   "source": [
    "Para ver la cantidad de registros, se utilizo el comando <i>Count</i> ingresando el identificador de la tabla TransaccionProductoID, de la tabla a consultar."
   ]
  },
  {
   "cell_type": "code",
   "execution_count": 99,
   "metadata": {},
   "outputs": [],
   "source": [
    "sql_cantidadregistros = '''(SELECT  COUNT(mc.TransaccionProductoID) AS CATIDAD\n",
    "from movimientosCopia mc ) AS CATIDAD'''"
   ]
  },
  {
   "cell_type": "code",
   "execution_count": 100,
   "metadata": {
    "tags": []
   },
   "outputs": [],
   "source": [
    "#Se cargan los dataframes desde la base de datos\n",
    "movimientoscopia  = obtener_dataframe_de_bd(db_connection_string, sql_movimientoscopia, db_user, db_psswd)\n",
    "producto = obtener_dataframe_de_bd(db_connection_string, sql_producto, db_user, db_psswd)\n",
    "proveedor = obtener_dataframe_de_bd(db_connection_string, sql_proveedor, db_user, db_psswd)\n",
    "cantidadregistros = obtener_dataframe_de_bd(db_connection_string, sql_cantidadregistros, db_user, db_psswd)"
   ]
  },
  {
   "cell_type": "markdown",
   "metadata": {},
   "source": [
    "### Entendimiento general de datos"
   ]
  },
  {
   "cell_type": "markdown",
   "metadata": {},
   "source": [
    "Para ver una muestra de los datos, utilice el comando <i>show</i> ingresando el número de filas que quiere ver"
   ]
  },
  {
   "cell_type": "code",
   "execution_count": 12,
   "metadata": {},
   "outputs": [
    {
     "name": "stdout",
     "output_type": "stream",
     "text": [
      "+---------------------+----------+--------------------+-----------------+---------------------+---------+---------+-----------+---------------+---------------+----------------+--------+\n",
      "|TransaccionProductoID|ProductoID|      NombreProducto|TipoTransaccionID|TipoTransaccionNombre|ClienteID|InvoiceID|ProveedorID|NombreProveedor|OrdenDeCompraID|FechaTransaccion|Cantidad|\n",
      "+---------------------+----------+--------------------+-----------------+---------------------+---------+---------+-----------+---------------+---------------+----------------+--------+\n",
      "|               335504|       193|Black and orange ...|               11|        Stock Receipt|      0.0|      0.0|        7.0|   Litware Inc.|         2069.0|     May 30,2016| 67368.0|\n",
      "|               335845|       193|Black and orange ...|               11|        Stock Receipt|      0.0|      0.0|        7.0|   Litware Inc.|         2072.0|     May 31,2016| 67272.0|\n",
      "|               334872|       193|Black and orange ...|               11|        Stock Receipt|      0.0|      0.0|        7.0|   Litware Inc.|         2067.0|     May 27,2016| 67200.0|\n",
      "|               334385|       193|Black and orange ...|               11|        Stock Receipt|      0.0|      0.0|        7.0|   Litware Inc.|         2065.0|     May 26,2016| 66840.0|\n",
      "|               333714|       193|Black and orange ...|               11|        Stock Receipt|      0.0|      0.0|        7.0|   Litware Inc.|         2061.0|     May 24,2016| 66744.0|\n",
      "+---------------------+----------+--------------------+-----------------+---------------------+---------+---------+-----------+---------------+---------------+----------------+--------+\n",
      "only showing top 5 rows\n",
      "\n"
     ]
    }
   ],
   "source": [
    "movimientoscopia.show(5)"
   ]
  },
  {
   "cell_type": "markdown",
   "metadata": {
    "tags": []
   },
   "source": [
    "### Entendimiento general de datos"
   ]
  },
  {
   "cell_type": "markdown",
   "metadata": {},
   "source": [
    "<i>Significado de una fila </i>."
   ]
  },
  {
   "cell_type": "markdown",
   "metadata": {},
   "source": [
    "Como puede observar en la tabla de movimientosCopia se tiene informacion **relacionada con el producto, el tipo de transaccion, el proveedor, el cliente, el identificador de la factura, con la órden, fecha del movimiento en inventario y la cantidad de productos que se retiraron/ingresaron a inventario**. \n",
    "\n",
    "- La información del producto su identificador <i>ProductoID</i>, el cual representa el producto que fue extraido o agregado en el inventario.\n",
    "- La información del tipo de transaccion <i>TipoTransaccionID</i>, el cual representa el tipo de transaccion del movimiento.\n",
    "- La información del Cliente <i>ClienteID</i>, representa el cliente que hace la compra.\n",
    "- La información de la factura <i>InvoiceID</i>, representa el Identificador de la factura.\n",
    "- La información del Proveedor <i>ProveedorID</i>, representa el proveedor del producto en movimiento.\n",
    "- La información de la orden <i>OrdenDeCompraID</i>, representa el id de la orden de este movimiento.\n",
    "- La información de la fecha del movimiento <i>FechaTransaccion</i>, representa la fecha del movimiento en inventario.\n",
    "- La información de la cantidad de productos <i>Cantidad</i>, representa la cantidad de productos que se retiraron/ingresaron a inventario.\n"
   ]
  },
  {
   "cell_type": "markdown",
   "metadata": {},
   "source": [
    "<i>Estadísticas descriptivas por columna (numérica, categórica, fechas)</i> ingresando el número de filas que se quiere ver"
   ]
  },
  {
   "cell_type": "code",
   "execution_count": 10,
   "metadata": {},
   "outputs": [
    {
     "data": {
      "text/plain": [
       "StructType(List(StructField(TransaccionProductoID,IntegerType,true),StructField(ProductoID,IntegerType,true),StructField(NombreProducto,StringType,true),StructField(TipoTransaccionID,IntegerType,true),StructField(TipoTransaccionNombre,StringType,true),StructField(ClienteID,DoubleType,true),StructField(InvoiceID,DoubleType,true),StructField(ProveedorID,StringType,true),StructField(NombreProveedor,StringType,true),StructField(OrdenDeCompraID,StringType,true),StructField(FechaTransaccion,StringType,true),StructField(Cantidad,DoubleType,true)))"
      ]
     },
     "execution_count": 10,
     "metadata": {},
     "output_type": "execute_result"
    }
   ],
   "source": [
    "movimientoscopia.schema"
   ]
  },
  {
   "cell_type": "markdown",
   "metadata": {},
   "source": [
    "<i>El esquema del DataFrame incluye los nombres de las columnas asi como el tipo de dato.</i>."
   ]
  },
  {
   "cell_type": "markdown",
   "metadata": {},
   "source": [
    "Tambien podemos saber la cantidad de datos disponibles, esto se hace con count() y con columns, que retornan el número de filas y número de columnas respectivamente."
   ]
  },
  {
   "cell_type": "code",
   "execution_count": 13,
   "metadata": {},
   "outputs": [
    {
     "name": "stdout",
     "output_type": "stream",
     "text": [
      "7110 12\n"
     ]
    }
   ],
   "source": [
    "print(movimientoscopia.count(), len(movimientoscopia.columns))"
   ]
  },
  {
   "cell_type": "markdown",
   "metadata": {},
   "source": [
    "**¿Cuantos datos nos compartieron para el proyecto?**\n",
    "En total tenemos 7110 movimientos y tenemos en total 12 variables a revisar de las cuales 3 son nùmericas asociadas a las movimientos, no existe campos son de tipo fecha y las demás son cadenas de caracteres."
   ]
  },
  {
   "cell_type": "markdown",
   "metadata": {},
   "source": [
    "### Revisión de reglas de negocio \n",
    "\n",
    "Primero se confirman las reglas proporcionadas por el negocio, que son las siguientes:\n",
    "- La cantidad máxima de productos movidos es 50 millones por viaje\n",
    "- Existen 236.668 movimientos de producto realizados desde 2013\n",
    "- Los movimientos están relacionados con 228.265 clientes\n",
    "- El formato de fechas manejado es YYYY-MM-DD HH:MM:SS\n",
    "- Actualmente tenemos 13 proveedores"
   ]
  },
  {
   "cell_type": "markdown",
   "metadata": {},
   "source": [
    "La siguiente regla nos indica **El formato de fechas manejado es YYYY-MM-DD HH:MM:SS**, un ejemplo es el atributo <i>FechaTransaccion</i>. Para esto vamos a hacer uso de expresiones regulares, que son patrones de búsqueda, en este caso queremos 4 dígitos entre 0 y 9 que indican el año seguido del símbolo - luego tenemos un número de 2 dígitos que puede empezar con 0 seguido de un número entre 1 y 9 (meses 01 hasta 09) o 1 seguido de 1 o 2 (meses 11 o 12), sigue otro -, y terminamos con un número de 2 dígitos que van desde el día 01 hasta el 31, se usa rlike smilar a LIKE de SQL"
   ]
  },
  {
   "cell_type": "code",
   "execution_count": 16,
   "metadata": {},
   "outputs": [
    {
     "name": "stdout",
     "output_type": "stream",
     "text": [
      "Número total de movimientos: 7110, número de ordenes con formato correcto: 4880\n"
     ]
    }
   ],
   "source": [
    "regex = \"[0-2]\\d{3}-(0[1-9]|1[0-2])-(0[1-9]|[1-2][0-9]|3[0-1])\"\n",
    "cumplenFormato = movimientoscopia.filter(movimientoscopia[\"FechaTransaccion\"].rlike(regex))\n",
    "print(\"Número total de movimientos: \"+str(movimientoscopia.count())+\", número de ordenes con formato correcto: \"+\n",
    "      str(cumplenFormato.count()))"
   ]
  },
  {
   "cell_type": "markdown",
   "metadata": {},
   "source": [
    "Para ver los registros que no cumplen con el formato podemos negar la condición del filtro con el símbolo ~ al principio:"
   ]
  },
  {
   "cell_type": "code",
   "execution_count": 17,
   "metadata": {},
   "outputs": [
    {
     "name": "stdout",
     "output_type": "stream",
     "text": [
      "+----------------+\n",
      "|FechaTransaccion|\n",
      "+----------------+\n",
      "|     May 30,2016|\n",
      "|     May 31,2016|\n",
      "|     May 27,2016|\n",
      "|     May 26,2016|\n",
      "|     May 24,2016|\n",
      "|     May 23,2016|\n",
      "|     May 19,2016|\n",
      "|     May 16,2016|\n",
      "|     May 17,2016|\n",
      "|     May 11,2016|\n",
      "|     May 09,2016|\n",
      "|     May 12,2016|\n",
      "|     Apr 29,2016|\n",
      "|     Apr 27,2016|\n",
      "|     Apr 26,2016|\n",
      "|     Apr 13,2016|\n",
      "|     Apr 14,2016|\n",
      "|     Apr 18,2016|\n",
      "|     Apr 20,2016|\n",
      "|     Apr 07,2016|\n",
      "+----------------+\n",
      "only showing top 20 rows\n",
      "\n"
     ]
    },
    {
     "data": {
      "text/plain": [
       "(2230, None)"
      ]
     },
     "execution_count": 17,
     "metadata": {},
     "output_type": "execute_result"
    }
   ],
   "source": [
    "noCumplenFormato = movimientoscopia.filter(~movimientoscopia[\"FechaTransaccion\"].rlike(regex))\n",
    "noCumplenFormato.count(), noCumplenFormato.select(col(\"FechaTransaccion\")).show()"
   ]
  },
  {
   "cell_type": "markdown",
   "metadata": {},
   "source": [
    "Se concluye entonces, que hay 2.230 registros cuya fecha no cumple con el formato especificado. Sin embargo, los valores que son diferentes parecen serlo solo porque varia el formato, este tipo de casos pueden ser solucionados fácilmente por lo que una notificación al negocio sería con caracter informativo más que para solicitar una aclaración de su parte.\n",
    "\n",
    "Para facilitar los análisis y evitar inconsistencias o conclusiones erradas vamos a estandarizar los datos, en este caso las fechas. Sin embargo, esta actividad puede hacerse sobre formatos de números, texto entre otras. "
   ]
  },
  {
   "cell_type": "markdown",
   "metadata": {},
   "source": [
    "Algo que se debe tener en cuenta en el perfilamiento de reglas de negocio es que dichas reglas pueden estar incompletas, por ende se recomienda tener especial cuidado con las columnas **ProveedorID, OrdenDeCompraID** dado que suelen ser pasadas por alto en el análisis estadistico, al ser una columna de tipo text, deberia tener relacion con la tabla respectiva. Sin embargo haciendo la validación vemos que alguno de estos campos son textos incompletos o sin dato. Este podría llegar a ser un problema a futuro por lo que se decide notificar a la organización."
   ]
  },
  {
   "cell_type": "code",
   "execution_count": 39,
   "metadata": {},
   "outputs": [
    {
     "name": "stdout",
     "output_type": "stream",
     "text": [
      "+---------------------+----------+--------------------+-----------------+---------------------+---------+---------+-----------+---------------+---------------+--------------------+--------+\n",
      "|TransaccionProductoID|ProductoID|      NombreProducto|TipoTransaccionID|TipoTransaccionNombre|ClienteID|InvoiceID|ProveedorID|NombreProveedor|OrdenDeCompraID|    FechaTransaccion|Cantidad|\n",
      "+---------------------+----------+--------------------+-----------------+---------------------+---------+---------+-----------+---------------+---------------+--------------------+--------+\n",
      "|               335504|       193|Black and orange ...|               11|        Stock Receipt|      0.0|      0.0|        7.0|   Litware Inc.|         2069.0|         May 30,2016| 67368.0|\n",
      "|               335845|       193|Black and orange ...|               11|        Stock Receipt|      0.0|      0.0|        7.0|   Litware Inc.|         2072.0|         May 31,2016| 67272.0|\n",
      "|               334872|       193|Black and orange ...|               11|        Stock Receipt|      0.0|      0.0|        7.0|   Litware Inc.|         2067.0|         May 27,2016| 67200.0|\n",
      "|               334385|       193|Black and orange ...|               11|        Stock Receipt|      0.0|      0.0|        7.0|   Litware Inc.|         2065.0|         May 26,2016| 66840.0|\n",
      "|               333714|       193|Black and orange ...|               11|        Stock Receipt|      0.0|      0.0|        7.0|   Litware Inc.|         2061.0|         May 24,2016| 66744.0|\n",
      "|               334073|       193|Black and orange ...|               11|        Stock Receipt|      0.0|      0.0|        7.0|   Litware Inc.|         2063.0|2016-05-25 07:00:...| 66696.0|\n",
      "|               334073|       193|Black and orange ...|               11|        Stock Receipt|      0.0|      0.0|        7.0|   Litware Inc.|         2063.0|2016-05-25 07:00:...| 66696.0|\n",
      "|               333459|       193|Black and orange ...|               11|        Stock Receipt|      0.0|      0.0|        7.0|   Litware Inc.|         2057.0|         May 23,2016| 66480.0|\n",
      "|               332869|       193|Black and orange ...|               11|        Stock Receipt|      0.0|      0.0|        7.0|   Litware Inc.|         2055.0|2016-05-20 07:00:...| 66288.0|\n",
      "|               332332|       193|Black and orange ...|               11|        Stock Receipt|      0.0|      0.0|        7.0|   Litware Inc.|         2053.0|         May 19,2016| 65904.0|\n",
      "|               331966|       193|Black and orange ...|               11|        Stock Receipt|      0.0|      0.0|        7.0|   Litware Inc.|         2051.0|2016-05-18 07:00:...| 65760.0|\n",
      "|               331966|       193|Black and orange ...|               11|        Stock Receipt|      0.0|      0.0|        7.0|   Litware Inc.|         2051.0|2016-05-18 07:00:...| 65760.0|\n",
      "|               330638|       193|Black and orange ...|               11|        Stock Receipt|      0.0|      0.0|        7.0|   Litware Inc.|         2044.0|2016-05-13 07:00:...| 65664.0|\n",
      "|               330638|       193|Black and orange ...|               11|        Stock Receipt|      0.0|      0.0|        7.0|   Litware Inc.|         2044.0|2016-05-13 07:00:...| 65664.0|\n",
      "|               331415|       193|Black and orange ...|               11|        Stock Receipt|      0.0|      0.0|        7.0|   Litware Inc.|         2046.0|         May 16,2016| 65640.0|\n",
      "|               331725|       193|Black and orange ...|               11|        Stock Receipt|      0.0|      0.0|        7.0|   Litware Inc.|         2049.0|         May 17,2016| 65544.0|\n",
      "|               329831|       193|Black and orange ...|               11|        Stock Receipt|      0.0|      0.0|        7.0|   Litware Inc.|         2040.0|         May 11,2016| 65520.0|\n",
      "|               329265|       193|Black and orange ...|               11|        Stock Receipt|      0.0|      0.0|        7.0|   Litware Inc.|         2034.0|         May 09,2016| 65496.0|\n",
      "|               330263|       193|Black and orange ...|               11|        Stock Receipt|      0.0|      0.0|        7.0|   Litware Inc.|         2042.0|         May 12,2016| 65472.0|\n",
      "|               328565|       193|Black and orange ...|               11|        Stock Receipt|      0.0|      0.0|        7.0|   Litware Inc.|         2032.0|2016-05-06 07:00:...| 65400.0|\n",
      "+---------------------+----------+--------------------+-----------------+---------------------+---------+---------+-----------+---------------+---------------+--------------------+--------+\n",
      "only showing top 20 rows\n",
      "\n"
     ]
    }
   ],
   "source": [
    "movimientoscopia.where(length(col(\"ProveedorID\")) <= 10).show()"
   ]
  },
  {
   "cell_type": "markdown",
   "metadata": {
    "tags": []
   },
   "source": [
    "Dentro de las reglas de negocio de especifica que los movimientos están relacionados con 228.265 clientes"
   ]
  },
  {
   "cell_type": "code",
   "execution_count": 109,
   "metadata": {},
   "outputs": [
    {
     "name": "stdout",
     "output_type": "stream",
     "text": [
      "DataFrame[ClienteID: double, count: bigint]\n"
     ]
    }
   ],
   "source": [
    "print(movimientoscopia.groupBy(\"ClienteID\").count())"
   ]
  },
  {
   "cell_type": "markdown",
   "metadata": {
    "tags": []
   },
   "source": [
    "Dentro de las reglas de negocio de especifica que se tienen 13 proveedores, pero se puede evidenciar que existe un total de 19 proveedores"
   ]
  },
  {
   "cell_type": "code",
   "execution_count": 101,
   "metadata": {},
   "outputs": [
    {
     "name": "stdout",
     "output_type": "stream",
     "text": [
      "19 27\n"
     ]
    }
   ],
   "source": [
    "print(proveedor.count(), len(proveedor.columns))"
   ]
  },
  {
   "cell_type": "markdown",
   "metadata": {
    "jp-MarkdownHeadingCollapsed": true,
    "tags": []
   },
   "source": [
    "### Análisis descriptivo\n",
    "Una vez cubierto lo básico de reglas de negocio, pasamos a perfilamiento estadístico. Para ver estadisticos generales como conteo, mínimo, máximo, desviación estandar y percentiles utilice summary()"
   ]
  },
  {
   "cell_type": "code",
   "execution_count": null,
   "metadata": {},
   "outputs": [
    {
     "name": "stdout",
     "output_type": "stream",
     "text": [
      "+-------+---------------------+------------------+--------------------+-----------------+---------------------+---------+---------+-----------------+-------------------+------------------+--------------------+------------------+\n",
      "|summary|TransaccionProductoID|        ProductoID|      NombreProducto|TipoTransaccionID|TipoTransaccionNombre|ClienteID|InvoiceID|      ProveedorID|    NombreProveedor|   OrdenDeCompraID|    FechaTransaccion|          Cantidad|\n",
      "+-------+---------------------+------------------+--------------------+-----------------+---------------------+---------+---------+-----------------+-------------------+------------------+--------------------+------------------+\n",
      "|  count|                 7110|              7110|                7110|             7110|                 7110|     7110|     7110|             7110|               7110|              7110|                7110|              7110|\n",
      "|   mean|    211952.4606188467|120.49071729957807|                null|             11.0|                 null|      0.0|      0.0|4.951898734177215|               null|1345.9973277074544|                null|21758.438255977497|\n",
      "| stddev|     70957.4269327054| 51.43712541868954|                null|              0.0|                 null|      0.0|      0.0|1.406311225432678|               null|420.37740964793056|                null|13565.130988552442|\n",
      "|    min|                89146|                77|\"The Gu\" red shir...|               11|        Stock Receipt|      0.0|      0.0|              1.0|A Datum Corporation|            1000.0|2013-12-31 07:00:...|              10.0|\n",
      "|    25%|               151948|                80|                null|               11|                 null|      0.0|      0.0|              4.0|               null|             986.0|                null|           12096.0|\n",
      "|    50%|               210031|                95|                null|               11|                 null|      0.0|      0.0|              4.0|               null|            1347.0|                null|           19776.0|\n",
      "|    75%|               274549|               184|                null|               11|                 null|      0.0|      0.0|              7.0|               null|            1710.0|                null|           30810.0|\n",
      "|    max|               335846|               227|White chocolate s...|               11|        Stock Receipt|      0.0|      0.0|              7.0|       Litware Inc.|             999.0|         Sep 30,2015|           67368.0|\n",
      "+-------+---------------------+------------------+--------------------+-----------------+---------------------+---------+---------+-----------------+-------------------+------------------+--------------------+------------------+\n",
      "\n"
     ]
    }
   ],
   "source": [
    "movimientoscopia.summary().show()"
   ]
  },
  {
   "cell_type": "markdown",
   "metadata": {},
   "source": [
    "En las estadísticas anteriores vemos que las columnas ClienteID, InvoiceID tienen un conteo igual a 0, es decir son columnas vacías por lo que se pueden eliminar."
   ]
  },
  {
   "cell_type": "markdown",
   "metadata": {},
   "source": [
    "Otras formas de observar distribución o estadísticos son las graficas, de barras, de dispersión, diagramas de caja, entre otros. Por ejemplo tenemos los siguientes diagramas de caja donde se observa claramente que tenemos un valor extremo en la variable cantidad (primer grafico) y donde podemos ver los valores extremos o bigotes que determinan el punto de separación entre valores atípicos y normales, los valores atipicos, los cuartiles entre otros"
   ]
  },
  {
   "cell_type": "code",
   "execution_count": null,
   "metadata": {},
   "outputs": [
    {
     "data": {
      "text/plain": [
       "{'whiskers': [<matplotlib.lines.Line2D at 0x193047ffbc8>,\n",
       "  <matplotlib.lines.Line2D at 0x1930480e448>],\n",
       " 'caps': [<matplotlib.lines.Line2D at 0x1930480eb08>,\n",
       "  <matplotlib.lines.Line2D at 0x1930480ed08>],\n",
       " 'boxes': [<matplotlib.lines.Line2D at 0x193047ffd48>],\n",
       " 'medians': [<matplotlib.lines.Line2D at 0x193048136c8>],\n",
       " 'fliers': [<matplotlib.lines.Line2D at 0x19304813cc8>],\n",
       " 'means': []}"
      ]
     },
     "execution_count": 41,
     "metadata": {},
     "output_type": "execute_result"
    },
    {
     "data": {
      "image/png": "[encoded data removed]",
      "text/plain": [
       "<Figure size 432x288 with 1 Axes>"
      ]
     },
     "metadata": {
      "needs_background": "light"
     },
     "output_type": "display_data"
    }
   ],
   "source": [
    "%matplotlib inline\n",
    "import matplotlib.pyplot as plt\n",
    "\n",
    "fig1, ax1 = plt.subplots()\n",
    "ax1.set_title('Cantidad de productos')\n",
    "ax1.boxplot(np.array(movimientoscopia.select('Cantidad').collect()))"
   ]
  },
  {
   "cell_type": "markdown",
   "metadata": {},
   "source": [
    "El análisis anterior es muy útil para variables de tipo numérico, sin embargo es incompleto para las variables de tipo caracter o las variables categoricas, por ende es necesario implementar nuestro propio código par obtener estadisticos como la moda y la mediana. A continuación obtenemos la moda para la variable Descripcion:"
   ]
  },
  {
   "cell_type": "code",
   "execution_count": null,
   "metadata": {},
   "outputs": [
    {
     "name": "stdout",
     "output_type": "stream",
     "text": [
      "+--------------------+-----+\n",
      "|      NombreProducto|count|\n",
      "+--------------------+-----+\n",
      "|\"The Gu\" red shir...|  823|\n",
      "|\"The Gu\" red shir...|  817|\n",
      "|\"The Gu\" red shir...|  808|\n",
      "|Tape dispenser (Red)|  805|\n",
      "|Black and orange ...|  804|\n",
      "+--------------------+-----+\n",
      "only showing top 5 rows\n",
      "\n"
     ]
    }
   ],
   "source": [
    "movimientoscopia.groupby(\"NombreProducto\").count().orderBy(\"count\", ascending=False).show(5)"
   ]
  },
  {
   "cell_type": "markdown",
   "metadata": {
    "tags": []
   },
   "source": [
    "## Análisis de calidad de datos\n",
    "La calidad de los datos consiste en validar la idoneidad de los datos analizando varias dimensiones, entre las cuales resaltamos:\n",
    "- Completitud: Datos que no existen o no se conocen\n",
    "- Unicidad (Duplicidad): Datos que son idénticos en diferentes registros o registros con valores idénticos en atributos en los que no debería ocurrir\n",
    "- Consistencia: Esta medida se define por la validez o integridad del dato, en la definición de su estructura, al interior de una fila o entre diferentes filas de la misma fuente o de diferentes fuentes. El manejo de unidades en los datos y el significado del dato son generadores de inconsistencias.\n",
    "- Validez: a nivel de formato y de sentido de los datos más alla de sus valores\n",
    "\n",
    "Para asegurar una calidad mínima de los datos en estas dimensiones hay que entender su origen y posteriormente realizar un proceso de validación de cada una de las dimensiones de perfilamiento que llevará a un entendimiento de los datos disponibles.\n"
   ]
  },
  {
   "cell_type": "markdown",
   "metadata": {},
   "source": [
    "A continuación se definen dos funciones, la primera cuenta los valores vacios por columna de dataframe, la segunda retorna un diccionario de columnas con cardinalidad superior al 50%\n",
    "\n",
    "Te invito a revisar los recursos de calidad de datos que hemos visto en el curso, a continuacion ejemplos daremos algunos ejemplos por cada dimensión para el caso del tutorial"
   ]
  },
  {
   "cell_type": "markdown",
   "metadata": {},
   "source": [
    "### Unicidad y validez\n",
    "\n",
    "La unicidad se revisó en la segunda regla de negocio y la validez se reviso en el perfilamiento general, en la regla de negocio 3 y en el análisis de la descripción al final de la sección de revisión de reglas de negocio"
   ]
  },
  {
   "cell_type": "markdown",
   "metadata": {},
   "source": [
    "### Completitud y validez"
   ]
  },
  {
   "cell_type": "code",
   "execution_count": 58,
   "metadata": {},
   "outputs": [],
   "source": [
    "def contar_vacios(df):\n",
    "    resultados = []\n",
    "    for c in df.columns:\n",
    "        vacios = df.filter(df[c].isNull()).count()\n",
    "        if vacios!=0:\n",
    "            print('número de vacíos para columna '+c+': '+str( vacios ))\n",
    "            resultados.append(vacios)\n",
    "        if vacios!='':\n",
    "            print('número de vacíos para columna '+c+': '+str( vacios ))\n",
    "            resultados.append(vacios)\n",
    "    return resultados"
   ]
  },
  {
   "cell_type": "code",
   "execution_count": 59,
   "metadata": {},
   "outputs": [
    {
     "name": "stdout",
     "output_type": "stream",
     "text": [
      "número de vacíos para columna TransaccionProductoID: 0\n",
      "número de vacíos para columna ProductoID: 0\n",
      "número de vacíos para columna NombreProducto: 0\n",
      "número de vacíos para columna TipoTransaccionID: 0\n",
      "número de vacíos para columna TipoTransaccionNombre: 0\n",
      "número de vacíos para columna ClienteID: 0\n",
      "número de vacíos para columna InvoiceID: 0\n",
      "número de vacíos para columna ProveedorID: 0\n",
      "número de vacíos para columna NombreProveedor: 0\n",
      "número de vacíos para columna OrdenDeCompraID: 0\n",
      "número de vacíos para columna FechaTransaccion: 0\n",
      "número de vacíos para columna Cantidad: 0\n"
     ]
    }
   ],
   "source": [
    "columnas_vacias_movimientos = contar_vacios(movimientoscopia)"
   ]
  },
  {
   "cell_type": "markdown",
   "metadata": {},
   "source": [
    "Como podemos observar para los movimientos las columnas tienen 0 campos vacios."
   ]
  },
  {
   "cell_type": "code",
   "execution_count": 62,
   "metadata": {},
   "outputs": [],
   "source": [
    "def cardinalidad(df):\n",
    "    resultado = {}\n",
    "    for c in df.columns:\n",
    "        cardinalidad = df.select(col(c)).distinct().count()\n",
    "        if cardinalidad>=df.count()*0.5:\n",
    "            resultado[c] = cardinalidad\n",
    "    return resultado"
   ]
  },
  {
   "cell_type": "code",
   "execution_count": 63,
   "metadata": {},
   "outputs": [
    {
     "data": {
      "text/plain": [
       "{'TransaccionProductoID': 6035}"
      ]
     },
     "execution_count": 63,
     "metadata": {},
     "output_type": "execute_result"
    }
   ],
   "source": [
    "columnas_alta_cardinalidad_movimientos = cardinalidad(movimientoscopia)\n",
    "columnas_alta_cardinalidad_movimientos"
   ]
  },
  {
   "cell_type": "markdown",
   "metadata": {},
   "source": [
    "Respecto a cardinalidad, solo la columna TransaccionProductoID tiene una cardinalidad superior al 50%."
   ]
  },
  {
   "cell_type": "markdown",
   "metadata": {},
   "source": [
    "### Consistencia\n",
    "A nivel de consistencia algunos ejemplos de revisión son precios negativos, productos que aparecen en las ordenes pero que no esten registrados en la tabla de produtos. En nuestro caso vamos a verificar que todas las ordenes tengan detalle de orden y viceversa"
   ]
  },
  {
   "cell_type": "code",
   "execution_count": 68,
   "metadata": {
    "tags": []
   },
   "outputs": [
    {
     "data": {
      "text/plain": [
       "(0, 210)"
      ]
     },
     "execution_count": 68,
     "metadata": {},
     "output_type": "execute_result"
    }
   ],
   "source": [
    "#consistencia: revisar genially: definicion de consistencia\n",
    "ids_movimientos = set([x.ProductoID for x in movimientoscopia.select('ProductoID').collect()])\n",
    "ids_productos = set([x.ID_Producto for x in producto.select('ID_Producto').collect()])\n",
    "\n",
    "len(ids_movimientos-ids_productos), len(ids_productos-ids_movimientos)"
   ]
  },
  {
   "cell_type": "markdown",
   "metadata": {},
   "source": [
    "Como se puede observar hay una diferencia de 0 movimientos que no tienen producto y hay  210 productos que no tienen movimiento. Ninguno de los casos tiene sentido en el contexto de WideWorldImporters. Esta inconsistencia se notifica al negocio dado que no hay forma de conocer cuáles son los registros que pueden tener ids que no existen"
   ]
  },
  {
   "cell_type": "markdown",
   "metadata": {},
   "source": [
    "Como se puede observar hay una diferencia de la cantidd de registros que no tienen detalles se pueden observar en la consulta, ya que estos en la mayoria asocial el ID_cliente con un valor 0 y en clietes con ClienteID, no existe."
   ]
  },
  {
   "cell_type": "markdown",
   "metadata": {},
   "source": [
    "## Herramientas para facilitar el entendimiento de datos"
   ]
  },
  {
   "cell_type": "markdown",
   "metadata": {},
   "source": [
    "Algunas de las estadísticas antes desarrolladas pueden obtenerse por medio de herramientas como Pandas Profiling una herramienta muy útil, <b><i>Pero no perfecta ni completa</i></b>, es Pandas profiling que dado un conjunto de datos, nos muestra histogramas, estadísticas etc. A continuación guardamos el reporte en html"
   ]
  },
  {
   "cell_type": "code",
   "execution_count": 69,
   "metadata": {},
   "outputs": [
    {
     "name": "stderr",
     "output_type": "stream",
     "text": [
      "Summarize dataset: 100%|██████████| 41/41 [01:55<00:00,  2.83s/it, Completed]                                           \n",
      "Generate report structure: 100%|██████████| 1/1 [00:04<00:00,  4.91s/it]\n",
      "Render HTML: 100%|██████████| 1/1 [00:05<00:00,  5.24s/it]\n",
      "Export report to file: 100%|██████████| 1/1 [00:00<00:00,  3.20it/s]\n"
     ]
    }
   ],
   "source": [
    "reporte = ProfileReport(movimientoscopia.toPandas())\n",
    "reporte.to_file(PATH+\"reporte_prefilamiento.html\")"
   ]
  },
  {
   "cell_type": "markdown",
   "metadata": {},
   "source": [
    "Lo primero que hay que notar es que hay 3 secciones principales. La primera es un resumen, la segunda es un análisis por cada variable y luego tenemos interacciones y correlaciones entre variables. \n",
    "\n",
    "Seccion general del reporte:\n",
    "1. Tenemos 14 variables y 88.258 registros (es decir, ordenes), de las cuales 7 son numericas, 2 categoricas, 1 booleana, 1 datetime y 3 no soportadas (la herramienta entiende tipo de variable como tipo de dato, asi que la información que nos da no es necesariamente correcta en este aspecto).\n",
    "\n",
    "2. En los datos hay 0.0%% de datos vacíos, (conclusión)\n",
    "\n",
    "3. El archivo ocupa en memoria 583.4 KiB\n",
    "\n",
    "4. Esiste un total de 1075, que equivale al 15.1% a regiatros duplicados.\n",
    "\n",
    "Sección de variables del reporte:\n",
    "\n",
    "5. Note que para cada variable nos dan estadisticos como la media, mínimo y máximo asi como un histograma de distribución de la variable, para nuestros datos no observamos nada por fuera de lo comun. (Como valores extremos)\n",
    "\n",
    "6. La variable TransaccionProductoID tiene 84.9% valores distintos, es decir, es una variable con alta cardinalidad. Este tipo de variables no aportan a las relaciones entre filas o columnas, por lo que suelen no ser útiles a la hora de hacer análitica.\n",
    "\n",
    "7. La variable ProductoID tiene solo el 0.2% de valores distintos, es decir que los movimientos tienen poca salida o entrada de productos, pero que la salida o entrada de estos productos son recurrentes.\n",
    "\n",
    "8. Hay 3 proveedores en los datos de los movimientos\n",
    "\n",
    "9. Hay 1256 Fecha de transaccion, siendo el 6 de abril del 2015 una de las fechas con más número de movimientos\n"
   ]
  },
  {
   "cell_type": "markdown",
   "metadata": {},
   "source": [
    "### Algunas gráficas utiles: Diagrama de caja, dispersion, histogramas para entender las distribuciones de las variables\n",
    "\n",
    "Generalmente las gráficas se emplean para entender la distribución de cada variable, también sirven para visualizar la relación entre 2 o más variables\n",
    "\n",
    "Algunas gráficas útiles son los histogramas, disepersión, diagramas de caja. Hay varias maneras de implementarlos, con paquetes como matplotlib o pandas, con funciones propias de pyspark, etc, a continuacón mostramos cómo hacerlo a travez de pandas"
   ]
  },
  {
   "cell_type": "code",
   "execution_count": 73,
   "metadata": {
    "tags": []
   },
   "outputs": [
    {
     "data": {
      "text/plain": [
       "array([[<AxesSubplot:title={'center':'Cantidad'}>]], dtype=object)"
      ]
     },
     "execution_count": 73,
     "metadata": {},
     "output_type": "execute_result"
    },
    {
     "data": {
      "image/png": "[encoded data removed]",
      "text/plain": [
       "<Figure size 432x288 with 1 Axes>"
      ]
     },
     "metadata": {
      "needs_background": "light"
     },
     "output_type": "display_data"
    }
   ],
   "source": [
    "#para valores extremos(subir a calidad)\n",
    "movimientoscopia.toPandas().hist(column='Cantidad')"
   ]
  },
  {
   "cell_type": "code",
   "execution_count": 87,
   "metadata": {},
   "outputs": [],
   "source": [
    "cantproductos = movimientoscopia.groupby(\"ProductoID\").count().orderBy(\"count\", ascending=False)"
   ]
  },
  {
   "cell_type": "markdown",
   "metadata": {},
   "source": [
    "Como se puede observar, el método retorna un dataframe, que vamos a usar para obtener dos arreglos, uno con el rango de cada una de las barras y otro con la cantidad de registros por rango. Se puede usar Matplotlib para graficar esta información:"
   ]
  },
  {
   "cell_type": "code",
   "execution_count": 88,
   "metadata": {},
   "outputs": [
    {
     "data": {
      "image/png": "[encoded data removed]",
      "text/plain": [
       "<Figure size 1591.2x576 with 1 Axes>"
      ]
     },
     "metadata": {
      "needs_background": "light"
     },
     "output_type": "display_data"
    }
   ],
   "source": [
    "def plotHistogramData(data):\n",
    "    binSides, binCounts = [row[0] for row in data.collect()], [row[1] for row in data.collect()]\n",
    "    binSides = [round(i, 2) for i in binSides]\n",
    "    N = len(binCounts)\n",
    "    ind = np.arange(N)\n",
    "    width = 1\n",
    "\n",
    "    fig, ax = plt.subplots()\n",
    "    rects1 = ax.bar(ind+0.5, binCounts, width, color='b')\n",
    "    \n",
    "    fig.set_size_inches(1.3*N, 8)\n",
    "\n",
    "    ax.set_ylabel('Frecuencia')\n",
    "    ax.set_xlabel('Rango')\n",
    "    ax.set_title('Histograma')\n",
    "    ax.set_xticks(np.arange(N))\n",
    "    ax.set_xticklabels(binSides)\n",
    "\n",
    "    plt.show()\n",
    "\n",
    "plotHistogramData(cantproductos)"
   ]
  },
  {
   "cell_type": "markdown",
   "metadata": {},
   "source": [
    "El diagrama de dispersion, nos muestra los datos para dos variables en forma de puntos y es muy útil para entender la relación entre dichas variables"
   ]
  },
  {
   "cell_type": "code",
   "execution_count": 90,
   "metadata": {},
   "outputs": [
    {
     "data": {
      "image/png": "[encoded data removed]",
      "text/plain": [
       "<Figure size 720x432 with 1 Axes>"
      ]
     },
     "metadata": {
      "needs_background": "light"
     },
     "output_type": "display_data"
    }
   ],
   "source": [
    "unitPrices = [row['FechaTransaccion'] for row in movimientoscopia.select(col('FechaTransaccion')).collect()]\n",
    "quantities = [row['Cantidad'] for row in movimientoscopia.collect()]\n",
    "\n",
    "fig, ax = plt.subplots(figsize=(10, 6))\n",
    "ax.scatter(x = unitPrices, y = quantities)\n",
    "plt.xlabel(\"Fecha Transaccion\")\n",
    "plt.ylabel(\"Cantidad\")\n",
    "\n",
    "plt.show()"
   ]
  },
  {
   "cell_type": "markdown",
   "metadata": {},
   "source": [
    "### Otras opciones de exploración\n",
    "PySpark también da la opción de crear tablas de pivotes. En el siguiente ejemplo, se muestra cómo hacer una tabla que permite ver cuántas ordenes hay por cada <i>FechaTransaccion</i> y por cada <i>ProveedorID</i>, es decir por fecha y por empleado cuantas ordenes existen:"
   ]
  },
  {
   "cell_type": "code",
   "execution_count": 92,
   "metadata": {},
   "outputs": [
    {
     "name": "stdout",
     "output_type": "stream",
     "text": [
      "+--------------------+----+----+----+\n",
      "|    FechaTransaccion| 1.0| 4.0| 7.0|\n",
      "+--------------------+----+----+----+\n",
      "|2014-08-28 07:00:...|null|   5|   1|\n",
      "|2014-09-19 07:00:...|null|   4|   1|\n",
      "|2014-11-19 07:00:...|null|   6|   3|\n",
      "|2015-02-18 07:00:...|null|   2|   2|\n",
      "|2015-10-27 07:00:...|null|   7|   3|\n",
      "|2016-01-27 07:00:...|null|   4|   4|\n",
      "|2015-02-12 07:00:...|null|   5|   1|\n",
      "|2015-01-16 07:00:...|null|   5|   2|\n",
      "|         Sep 21,2015|null|   2|   1|\n",
      "|         Oct 14,2014|null|   1|null|\n",
      "|         Jul 16,2014|null|   4|   1|\n",
      "|         Mar 25,2015|null|null|   1|\n",
      "|2014-09-24 07:00:...|null|   2|   4|\n",
      "|         Jul 18,2014|null|   2|   1|\n",
      "|         Sep 02,2015|null|   2|   1|\n",
      "|2014-12-31 07:00:...|null|   4|   3|\n",
      "|2015-12-17 07:00:...|null|   1|   2|\n",
      "|2014-11-17 07:00:...|null|   9|   4|\n",
      "|         Aug 07,2014|null|   3|null|\n",
      "|         Mar 26,2014|null|   2|   1|\n",
      "+--------------------+----+----+----+\n",
      "only showing top 20 rows\n",
      "\n"
     ]
    }
   ],
   "source": [
    "movimientoscopia.groupBy('FechaTransaccion').pivot('ProveedorID').count().show()"
   ]
  },
  {
   "cell_type": "markdown",
   "metadata": {},
   "source": [
    "Otro análisis muy útil es el de la correlación lineal entre dos variables, para ver la matriz de correlacion que mide esta dependencia o la fuerza de la relación lineal entre dos variables vamos a usar pandas, la interpretación es que si entre dos variables A y B  el valor obtenido es cercano a -1 o a 1, se interpreta como que A y B contienen la misma información y por ende no es necesario mantener ambas columnas"
   ]
  },
  {
   "cell_type": "code",
   "execution_count": 93,
   "metadata": {},
   "outputs": [
    {
     "name": "stderr",
     "output_type": "stream",
     "text": [
      "C:\\Users\\estudiante\\anaconda3\\envs\\Tutoriales\\lib\\site-packages\\pandas\\io\\formats\\style.py:2813: RuntimeWarning: All-NaN slice encountered\n",
      "  smin = np.nanmin(gmap) if vmin is None else vmin\n",
      "C:\\Users\\estudiante\\anaconda3\\envs\\Tutoriales\\lib\\site-packages\\pandas\\io\\formats\\style.py:2814: RuntimeWarning: All-NaN slice encountered\n",
      "  smax = np.nanmax(gmap) if vmax is None else vmax\n"
     ]
    },
    {
     "data": {
      "text/html": [
       "<style type=\"text/css\">\n",
       "#T_3230e_row0_col0, #T_3230e_row1_col1, #T_3230e_row5_col5 {\n",
       "  background-color: #b40426;\n",
       "  color: #f1f1f1;\n",
       "}\n",
       "#T_3230e_row0_col1, #T_3230e_row1_col0, #T_3230e_row1_col5 {\n",
       "  background-color: #3b4cc0;\n",
       "  color: #f1f1f1;\n",
       "}\n",
       "#T_3230e_row0_col2, #T_3230e_row0_col3, #T_3230e_row0_col4, #T_3230e_row1_col2, #T_3230e_row1_col3, #T_3230e_row1_col4, #T_3230e_row2_col0, #T_3230e_row2_col1, #T_3230e_row2_col2, #T_3230e_row2_col3, #T_3230e_row2_col4, #T_3230e_row2_col5, #T_3230e_row3_col0, #T_3230e_row3_col1, #T_3230e_row3_col2, #T_3230e_row3_col3, #T_3230e_row3_col4, #T_3230e_row3_col5, #T_3230e_row4_col0, #T_3230e_row4_col1, #T_3230e_row4_col2, #T_3230e_row4_col3, #T_3230e_row4_col4, #T_3230e_row4_col5, #T_3230e_row5_col2, #T_3230e_row5_col3, #T_3230e_row5_col4 {\n",
       "  background-color: #000000;\n",
       "  color: #f1f1f1;\n",
       "}\n",
       "#T_3230e_row0_col5 {\n",
       "  background-color: #edd1c2;\n",
       "  color: #000000;\n",
       "}\n",
       "#T_3230e_row5_col0 {\n",
       "  background-color: #f2c9b4;\n",
       "  color: #000000;\n",
       "}\n",
       "#T_3230e_row5_col1 {\n",
       "  background-color: #5572df;\n",
       "  color: #f1f1f1;\n",
       "}\n",
       "</style>\n",
       "<table id=\"T_3230e_\">\n",
       "  <thead>\n",
       "    <tr>\n",
       "      <th class=\"blank level0\" >&nbsp;</th>\n",
       "      <th class=\"col_heading level0 col0\" >TransaccionProductoID</th>\n",
       "      <th class=\"col_heading level0 col1\" >ProductoID</th>\n",
       "      <th class=\"col_heading level0 col2\" >TipoTransaccionID</th>\n",
       "      <th class=\"col_heading level0 col3\" >ClienteID</th>\n",
       "      <th class=\"col_heading level0 col4\" >InvoiceID</th>\n",
       "      <th class=\"col_heading level0 col5\" >Cantidad</th>\n",
       "    </tr>\n",
       "  </thead>\n",
       "  <tbody>\n",
       "    <tr>\n",
       "      <th id=\"T_3230e_level0_row0\" class=\"row_heading level0 row0\" >TransaccionProductoID</th>\n",
       "      <td id=\"T_3230e_row0_col0\" class=\"data row0 col0\" >1.000000</td>\n",
       "      <td id=\"T_3230e_row0_col1\" class=\"data row0 col1\" >0.036515</td>\n",
       "      <td id=\"T_3230e_row0_col2\" class=\"data row0 col2\" >nan</td>\n",
       "      <td id=\"T_3230e_row0_col3\" class=\"data row0 col3\" >nan</td>\n",
       "      <td id=\"T_3230e_row0_col4\" class=\"data row0 col4\" >nan</td>\n",
       "      <td id=\"T_3230e_row0_col5\" class=\"data row0 col5\" >0.623564</td>\n",
       "    </tr>\n",
       "    <tr>\n",
       "      <th id=\"T_3230e_level0_row1\" class=\"row_heading level0 row1\" >ProductoID</th>\n",
       "      <td id=\"T_3230e_row1_col0\" class=\"data row1 col0\" >0.036515</td>\n",
       "      <td id=\"T_3230e_row1_col1\" class=\"data row1 col1\" >1.000000</td>\n",
       "      <td id=\"T_3230e_row1_col2\" class=\"data row1 col2\" >nan</td>\n",
       "      <td id=\"T_3230e_row1_col3\" class=\"data row1 col3\" >nan</td>\n",
       "      <td id=\"T_3230e_row1_col4\" class=\"data row1 col4\" >nan</td>\n",
       "      <td id=\"T_3230e_row1_col5\" class=\"data row1 col5\" >0.121773</td>\n",
       "    </tr>\n",
       "    <tr>\n",
       "      <th id=\"T_3230e_level0_row2\" class=\"row_heading level0 row2\" >TipoTransaccionID</th>\n",
       "      <td id=\"T_3230e_row2_col0\" class=\"data row2 col0\" >nan</td>\n",
       "      <td id=\"T_3230e_row2_col1\" class=\"data row2 col1\" >nan</td>\n",
       "      <td id=\"T_3230e_row2_col2\" class=\"data row2 col2\" >nan</td>\n",
       "      <td id=\"T_3230e_row2_col3\" class=\"data row2 col3\" >nan</td>\n",
       "      <td id=\"T_3230e_row2_col4\" class=\"data row2 col4\" >nan</td>\n",
       "      <td id=\"T_3230e_row2_col5\" class=\"data row2 col5\" >nan</td>\n",
       "    </tr>\n",
       "    <tr>\n",
       "      <th id=\"T_3230e_level0_row3\" class=\"row_heading level0 row3\" >ClienteID</th>\n",
       "      <td id=\"T_3230e_row3_col0\" class=\"data row3 col0\" >nan</td>\n",
       "      <td id=\"T_3230e_row3_col1\" class=\"data row3 col1\" >nan</td>\n",
       "      <td id=\"T_3230e_row3_col2\" class=\"data row3 col2\" >nan</td>\n",
       "      <td id=\"T_3230e_row3_col3\" class=\"data row3 col3\" >nan</td>\n",
       "      <td id=\"T_3230e_row3_col4\" class=\"data row3 col4\" >nan</td>\n",
       "      <td id=\"T_3230e_row3_col5\" class=\"data row3 col5\" >nan</td>\n",
       "    </tr>\n",
       "    <tr>\n",
       "      <th id=\"T_3230e_level0_row4\" class=\"row_heading level0 row4\" >InvoiceID</th>\n",
       "      <td id=\"T_3230e_row4_col0\" class=\"data row4 col0\" >nan</td>\n",
       "      <td id=\"T_3230e_row4_col1\" class=\"data row4 col1\" >nan</td>\n",
       "      <td id=\"T_3230e_row4_col2\" class=\"data row4 col2\" >nan</td>\n",
       "      <td id=\"T_3230e_row4_col3\" class=\"data row4 col3\" >nan</td>\n",
       "      <td id=\"T_3230e_row4_col4\" class=\"data row4 col4\" >nan</td>\n",
       "      <td id=\"T_3230e_row4_col5\" class=\"data row4 col5\" >nan</td>\n",
       "    </tr>\n",
       "    <tr>\n",
       "      <th id=\"T_3230e_level0_row5\" class=\"row_heading level0 row5\" >Cantidad</th>\n",
       "      <td id=\"T_3230e_row5_col0\" class=\"data row5 col0\" >0.623564</td>\n",
       "      <td id=\"T_3230e_row5_col1\" class=\"data row5 col1\" >0.121773</td>\n",
       "      <td id=\"T_3230e_row5_col2\" class=\"data row5 col2\" >nan</td>\n",
       "      <td id=\"T_3230e_row5_col3\" class=\"data row5 col3\" >nan</td>\n",
       "      <td id=\"T_3230e_row5_col4\" class=\"data row5 col4\" >nan</td>\n",
       "      <td id=\"T_3230e_row5_col5\" class=\"data row5 col5\" >1.000000</td>\n",
       "    </tr>\n",
       "  </tbody>\n",
       "</table>\n"
      ],
      "text/plain": [
       "<pandas.io.formats.style.Styler at 0x19303424b48>"
      ]
     },
     "execution_count": 93,
     "metadata": {},
     "output_type": "execute_result"
    }
   ],
   "source": [
    "corr = movimientoscopia.toPandas().corr(method='pearson')\n",
    "corr.style.background_gradient(cmap='coolwarm')"
   ]
  },
  {
   "cell_type": "markdown",
   "metadata": {},
   "source": [
    "## Conclusiones/resultados"
   ]
  },
  {
   "cell_type": "markdown",
   "metadata": {},
   "source": [
    "\n",
    "**Conclusiones generales:**\n",
    "\n",
    "1. En la tabla de movimientosCopia tenemos información **relacionada con el producto, el tipo de transaccion, el proveedor, el cliente, el identificador de la factura, con la órden, fecha del movimiento en inventario y la cantidad de productos que se retiraron/ingresaron a inventario**. \n",
    "2. Una fila de movimientos representa el movimiento que se realiza ya sea por la salida y/o entrada de un prodcto, de la fecha de movimiento, la cantidad, el tipo de transaccion y el numero de la orden de compra.\n",
    "3. ¿Por que en el campo ClienteID de la tabla movimientosCopia, existen registros con valor 0, siendo que el la tabla Clientes no existe ningun registro con esta identificacion.? \n",
    "\n",
    "**Usando herramientas:**\n",
    "\n",
    "Seccion general del reporte:\n",
    "1. Tenemos 14 variables y 88.258 registros (es decir, ordenes), de las cuales 7 son numericas, 2 categoricas, 1 booleana, 1 datetime y 3 no soportadas (la herramienta entiende tipo de variable como tipo de dato, asi que la información que nos da no es necesariamente correcta en este aspecto).\n",
    "\n",
    "2. En los datos hay 29.3% de datos vacíos, (conclusión)\n",
    "\n",
    "3. El archivo ocupa en memoria 7.5 MB\n",
    "\n",
    "4. No hay registros duplicados\n",
    "\n",
    "Sección de variables del reporte:\n",
    "\n",
    "1. Tenemos 14 variables y 88.258 registros (es decir, ordenes), de las cuales 7 son numericas, 2 categoricas, 1 booleana, 1 datetime y 3 no soportadas (la herramienta entiende tipo de variable como tipo de dato, asi que la información que nos da no es necesariamente correcta en este aspecto).\n",
    "\n",
    "2. En los datos hay 0.0%% de datos vacíos, (conclusión)\n",
    "\n",
    "3. El archivo ocupa en memoria 583.4 KiB\n",
    "\n",
    "4. Esiste un total de 1075, que equivale al 15.1% a regiatros duplicados.\n",
    "\n",
    "Sección de variables del reporte:\n",
    "\n",
    "5. Note que para cada variable nos dan estadisticos como la media, mínimo y máximo asi como un histograma de distribución de la variable, para nuestros datos no observamos nada por fuera de lo comun. (Como valores extremos)\n",
    "\n",
    "6. La variable TransaccionProductoID tiene 84.9% valores distintos, es decir, es una variable con alta cardinalidad. Este tipo de variables no aportan a las relaciones entre filas o columnas, por lo que suelen no ser útiles a la hora de hacer análitica.\n",
    "\n",
    "7. La variable ProductoID tiene solo el 0.2% de valores distintos, es decir que los movimientos tienen poca salida o entrada de productos, pero que la salida o entrada de estos productos son recurrentes.\n",
    "\n",
    "8. Hay 3 proveedores en los datos de los movimientos\n",
    "\n",
    "9. Hay 1256 Fecha de transaccion, siendo el 6 de abril del 2015 una de las fechas con más número de movimientos\n",
    "\n",
    " \n",
    "#### Conclusiones de consultoria\n",
    "|Tema analitico |analisis requerido o ineridos| Categoria de analisis| Proceso de negocio| Fuente de datos|\n",
    "|---------------|-----------------------------| ---------------------| ------------------|  --------------|\n",
    "|Comportamiento de los movimientos|Visualizar la cantidad de movimientos, productos vendidos, el valor total recaudado, cantidad de salidas o entradas |tablero de cntrol  |  ventas |movimientos, clientes, productos, proveedores, TiposTransaccion   |  \n",
    "\n",
    "\n",
    "Teniendo en cuenta el requerimiento de WWI, consideramos que es posible llevar a cabo una solucióon pues contamos con la información necesaria especificada en el análisis requerido, sin embargo es necesario realizar correcciones a los datos y obtener aclaraciones de parte del negocio para entender completamente la necesidad de negocio"
   ]
  },
  {
   "cell_type": "code",
   "execution_count": null,
   "metadata": {},
   "outputs": [],
   "source": []
  }
 ],
 "metadata": {
  "kernelspec": {
   "display_name": "Python 3 (ipykernel)",
   "language": "python",
   "name": "python3"
  },
  "language_info": {
   "codemirror_mode": {
    "name": "ipython",
    "version": 3
   },
   "file_extension": ".py",
   "mimetype": "text/x-python",
   "name": "python",
   "nbconvert_exporter": "python",
   "pygments_lexer": "ipython3",
   "version": "3.7.13"
  },
  "toc-autonumbering": true,
  "toc-showcode": true
 },
 "nbformat": 4,
 "nbformat_minor": 4
}
